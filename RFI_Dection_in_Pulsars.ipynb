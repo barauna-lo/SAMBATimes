{
  "nbformat": 4,
  "nbformat_minor": 0,
  "metadata": {
    "colab": {
      "provenance": [],
      "toc_visible": true,
      "authorship_tag": "ABX9TyOpFoqXhrgssolUPl9ZA4L/",
      "include_colab_link": true
    },
    "kernelspec": {
      "name": "python3",
      "display_name": "Python 3"
    },
    "language_info": {
      "name": "python"
    }
  },
  "cells": [
    {
      "cell_type": "markdown",
      "metadata": {
        "id": "view-in-github",
        "colab_type": "text"
      },
      "source": [
        "<a href=\"https://colab.research.google.com/github/barauna-lo/SAMBATimes/blob/main/RFI_Dection_in_Pulsars.ipynb\" target=\"_parent\"><img src=\"https://colab.research.google.com/assets/colab-badge.svg\" alt=\"Open In Colab\"/></a>"
      ]
    },
    {
      "cell_type": "markdown",
      "source": [
        "# Introdution of the Problem"
      ],
      "metadata": {
        "id": "Mj_sYzmj4ynA"
      }
    },
    {
      "cell_type": "markdown",
      "source": [
        "# Libraries"
      ],
      "metadata": {
        "id": "7D8Lqnf0414-"
      }
    },
    {
      "cell_type": "code",
      "source": [
        "import numpy\n",
        "import astropy\n",
        "import pandas"
      ],
      "metadata": {
        "id": "xxl_gk6O44vF"
      },
      "execution_count": null,
      "outputs": []
    },
    {
      "cell_type": "markdown",
      "source": [
        "# Data\n",
        "Downlod the data from [this](google.com) link."
      ],
      "metadata": {
        "id": "q0DSuVqk4393"
      }
    },
    {
      "cell_type": "markdown",
      "source": [
        "## Dowlonad"
      ],
      "metadata": {
        "id": "Ix2V4cbk56EF"
      }
    },
    {
      "cell_type": "code",
      "execution_count": 1,
      "metadata": {
        "colab": {
          "base_uri": "https://localhost:8080/"
        },
        "id": "BSqD0A5f4tKo",
        "outputId": "2b23524e-7b7b-490d-b8e9-e45e1c267bda"
      },
      "outputs": [
        {
          "output_type": "stream",
          "name": "stdout",
          "text": [
            "wget: missing URL\n",
            "Usage: wget [OPTION]... [URL]...\n",
            "\n",
            "Try `wget --help' for more options.\n"
          ]
        }
      ],
      "source": [
        "#Data set 1 -\n",
        "!wget -link_bla_bla1\n",
        "#Data set 2 -\n",
        "!wget -link_bla_bla2\n",
        "#Data set 3 - BINGO\n",
        "!wget -bingo_data"
      ]
    },
    {
      "cell_type": "markdown",
      "source": [
        "## Load data"
      ],
      "metadata": {
        "id": "5KeQEu3g8q7k"
      }
    },
    {
      "cell_type": "code",
      "source": [
        "data1 =\n",
        "data2 =\n",
        "dataBINGO = # .fits #"
      ],
      "metadata": {
        "id": "xz_u8qPU8tZD"
      },
      "execution_count": null,
      "outputs": []
    },
    {
      "cell_type": "markdown",
      "source": [
        "## Head - See all the informations"
      ],
      "metadata": {
        "id": "XaJv69H051Zt"
      }
    },
    {
      "cell_type": "code",
      "source": [],
      "metadata": {
        "id": "_X2B_JeC50l7"
      },
      "execution_count": null,
      "outputs": []
    },
    {
      "cell_type": "markdown",
      "source": [
        "## Data Vizualization\n"
      ],
      "metadata": {
        "id": "dM6X9dOH5SG2"
      }
    },
    {
      "cell_type": "code",
      "source": [
        "# Plot the data"
      ],
      "metadata": {
        "id": "Y1heKuva5RLn"
      },
      "execution_count": null,
      "outputs": []
    },
    {
      "cell_type": "markdown",
      "source": [
        "# Clean RFI in the charts"
      ],
      "metadata": {
        "id": "hqkRNkQy5m5S"
      }
    },
    {
      "cell_type": "code",
      "source": [
        "# RFI mask\n",
        "# Manualy noise\n",
        "\n",
        "#"
      ],
      "metadata": {
        "id": "zkr0cSbS5FGP"
      },
      "execution_count": null,
      "outputs": []
    },
    {
      "cell_type": "markdown",
      "source": [
        "# Data Format changing"
      ],
      "metadata": {
        "id": "5iwlhzI35sUG"
      }
    },
    {
      "cell_type": "code",
      "source": [],
      "metadata": {
        "id": "cUms_O4q5uPY"
      },
      "execution_count": null,
      "outputs": []
    },
    {
      "cell_type": "markdown",
      "source": [
        "# Using a standart\n",
        "Virtual Machine?"
      ],
      "metadata": {
        "id": "HsyXQQ2k7AcI"
      }
    },
    {
      "cell_type": "code",
      "source": [],
      "metadata": {
        "id": "6YM5o57f7Jp1"
      },
      "execution_count": null,
      "outputs": []
    }
  ]
}